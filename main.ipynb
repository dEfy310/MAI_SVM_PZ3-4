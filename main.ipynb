{
 "cells": [
  {
   "cell_type": "code",
   "execution_count": null,
   "id": "initial_id",
   "metadata": {
    "collapsed": true,
    "ExecuteTime": {
     "end_time": "2023-12-20T06:41:29.417146500Z",
     "start_time": "2023-12-20T06:41:29.410143500Z"
    }
   },
   "outputs": [],
   "source": [
    "import numpy as np\n",
    "import time\n",
    "import pandas as pd\n",
    "import math\n",
    "import matplotlib.pyplot as plt\n",
    "from scipy.optimize import minimize"
   ]
  },
  {
   "cell_type": "code",
   "execution_count": null,
   "outputs": [],
   "source": [
    "def function (x):\n",
    "    return (x - 15) ** 2 + 5"
   ],
   "metadata": {
    "collapsed": false
   },
   "id": "e33be0a0ceb7ebb5"
  },
  {
   "cell_type": "code",
   "execution_count": 1,
   "outputs": [],
   "source": [
    "def bisection_metod (f, a, b, epsilon, max_iterations = 1000):\n",
    "    if f(a) * f(b) > 0:\n",
    "        print(\"Условие f(a) * f(b) < 0 не выполняется\")\n",
    "        return None\n",
    "    iterration = 0\n",
    "    while (b-a) / 2 > epsilon and iterration < max_iterations:\n",
    "        c = (a+b) / 2\n",
    "        if f(c) == 0:\n",
    "            return c\n",
    "        elif f(a) * f(c) < 0:\n",
    "            b = c\n",
    "        else: \n",
    "            a = c\n",
    "        iterration += 1\n",
    "    min_value = f(c)\n",
    "    return {\n",
    "        'min_value': min_value, \n",
    "        'x_value': c,\n",
    "        'iterrations': iterration,\n",
    "        'interval_lenght': (b - a)\n",
    "    }\n"
   ],
   "metadata": {
    "collapsed": false,
    "ExecuteTime": {
     "end_time": "2023-12-20T07:03:59.623372500Z",
     "start_time": "2023-12-20T07:03:59.614864100Z"
    }
   },
   "id": "74a05c6de344065f"
  },
  {
   "cell_type": "code",
   "execution_count": null,
   "outputs": [],
   "source": [],
   "metadata": {
    "collapsed": false
   },
   "id": "d7b0651d56c31042"
  }
 ],
 "metadata": {
  "kernelspec": {
   "display_name": "Python 3",
   "language": "python",
   "name": "python3"
  },
  "language_info": {
   "codemirror_mode": {
    "name": "ipython",
    "version": 2
   },
   "file_extension": ".py",
   "mimetype": "text/x-python",
   "name": "python",
   "nbconvert_exporter": "python",
   "pygments_lexer": "ipython2",
   "version": "2.7.6"
  }
 },
 "nbformat": 4,
 "nbformat_minor": 5
}
