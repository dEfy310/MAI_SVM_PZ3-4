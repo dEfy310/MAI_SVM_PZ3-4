{
 "cells": [
  {
   "cell_type": "code",
   "execution_count": 1,
   "id": "initial_id",
   "metadata": {
    "collapsed": true,
    "ExecuteTime": {
     "end_time": "2023-12-25T05:11:39.470536400Z",
     "start_time": "2023-12-25T05:11:38.884403200Z"
    }
   },
   "outputs": [],
   "source": [
    "import time\n",
    "import pandas as pd\n",
    "import math"
   ]
  },
  {
   "cell_type": "code",
   "execution_count": 2,
   "outputs": [],
   "source": [
    "def function (x):\n",
    "    return (x - 15) ** 2 + 5\n",
    "\n",
    "minFList = []\n",
    "minXList = []\n",
    "iterationsList = []\n",
    "execTimeList = []\n",
    "finalIntervallenghtList = []"
   ],
   "metadata": {
    "collapsed": false,
    "ExecuteTime": {
     "end_time": "2023-12-25T05:11:39.483131600Z",
     "start_time": "2023-12-25T05:11:39.470536400Z"
    }
   },
   "id": "e33be0a0ceb7ebb5"
  },
  {
   "cell_type": "code",
   "execution_count": 3,
   "outputs": [
    {
     "name": "stdout",
     "output_type": "stream",
     "text": [
      "Метод половинного деления: Минимальное значение функции - 34229.441072838614, значение x - 199.9984893798828, число итераций - 17, время выполнения - 0.0 секунд, длина конечного отрезка - 0.0015106201171875\n"
     ]
    }
   ],
   "source": [
    "def bisection_method(func, a, b, epsilon, max_iterations=1000):\n",
    "    iteration = 0\n",
    "    start_time = time.time()\n",
    "\n",
    "    while (b - a) / 2 > epsilon and iteration < max_iterations:\n",
    "        midpoint = (a + b) / 2\n",
    "        if func(midpoint) == 0:\n",
    "            break\n",
    "        elif func(midpoint) * func(a) < 0:\n",
    "            b = midpoint\n",
    "        else:\n",
    "            a = midpoint  \n",
    "        iteration += 1\n",
    "        \n",
    "    end_time = time.time()\n",
    "    duration = end_time - start_time\n",
    "    min_value = func(midpoint)\n",
    "\n",
    "    return {\n",
    "        'min_value': min_value,\n",
    "        'x_value': midpoint,\n",
    "        'iterations': iteration,\n",
    "        'execution_time': duration,\n",
    "        'interval_length': (b - a)\n",
    "    }\n",
    "\n",
    "\n",
    "a = float(input(\"Введите начало интервала: \"))\n",
    "b = float(input(\"Введите конец интервала: \"))\n",
    "epsilon = float(input(\"Введите точность измерения: \"))\n",
    "\n",
    "result = bisection_method(function, a, b, epsilon)\n",
    "print(\"Метод половинного деления:\", f\"Минимальное значение функции - {result['min_value']}, значение x - {result['x_value']}, число итераций - {result['iterations']}, время выполнения - {result['execution_time']} секунд, длина конечного отрезка - {result['interval_length']}\")\n",
    "\n",
    "\n",
    "minFList.append(result['min_value'])\n",
    "minXList.append(result['x_value'])\n",
    "iterationsList.append(result['iterations'])\n",
    "execTimeList.append(result['execution_time'])\n",
    "finalIntervallenghtList.append(result['interval_length'])"
   ],
   "metadata": {
    "collapsed": false,
    "ExecuteTime": {
     "end_time": "2023-12-25T05:11:46.388136700Z",
     "start_time": "2023-12-25T05:11:39.477129600Z"
    }
   },
   "id": "6a5601f64b458780"
  },
  {
   "cell_type": "code",
   "execution_count": 4,
   "outputs": [
    {
     "name": "stdout",
     "output_type": "stream",
     "text": [
      "Метод золотого сечения: Минимальное значение функции - 5.000000000326089, значение x - 15.000018057932744, число итераций - 24, время выполнения - 0.0 секунд, длина конечного отрезка - 0.0019096853843336703\n"
     ]
    }
   ],
   "source": [
    "def golden_section_method(func, a, b, epsilon, max_iterations=1000):\n",
    "    phi = (1 + 5**0.5) / 2  \n",
    "\n",
    "    iteration = 0\n",
    "    start_time = time.time()\n",
    "\n",
    "    while (b - a) / 2 > epsilon and iteration < max_iterations:\n",
    "        x1 = b - (b - a) / phi\n",
    "        x2 = a + (b - a) / phi\n",
    "\n",
    "        if func(x1) < func(x2):\n",
    "            b = x2\n",
    "        else:\n",
    "            a = x1\n",
    "\n",
    "        iteration += 1\n",
    "\n",
    "    end_time = time.time()\n",
    "    duration = end_time - start_time\n",
    "    x_value = (a + b) / 2\n",
    "    min_value = func(x_value)\n",
    "\n",
    "    return {\n",
    "        'min_value': min_value,\n",
    "        'x_value': x_value,\n",
    "        'iterations': iteration,\n",
    "        'execution_time': duration,\n",
    "        'interval_length': (b - a)\n",
    "    }\n",
    "\n",
    "a = float(input(\"Введите начало интервала: \"))\n",
    "b = float(input(\"Введите конец интервала: \"))\n",
    "epsilon = float(input(\"Введите точность измерения: \"))\n",
    "\n",
    "result = golden_section_method(function, a, b,epsilon)\n",
    "print(\"Метод золотого сечения:\", f\"Минимальное значение функции - {result['min_value']}, значение x - {result['x_value']}, число итераций - {result['iterations']}, время выполнения - {result['execution_time']} секунд, длина конечного отрезка - {result['interval_length']}\")\n",
    "\n",
    "minFList.append(result['min_value'])\n",
    "minXList.append(result['x_value'])\n",
    "iterationsList.append(result['iterations'])\n",
    "execTimeList.append(result['execution_time'])\n",
    "finalIntervallenghtList.append(result['interval_length'])"
   ],
   "metadata": {
    "collapsed": false,
    "ExecuteTime": {
     "end_time": "2023-12-25T05:11:50.259203800Z",
     "start_time": "2023-12-25T05:11:46.388136700Z"
    }
   },
   "id": "74a05c6de344065f"
  },
  {
   "cell_type": "code",
   "execution_count": 5,
   "outputs": [
    {
     "name": "stdout",
     "output_type": "stream",
     "text": [
      "Метод Фибоначчи: Минимальное значение функции - 30.15629925944949, значение x - 9.98439442744453, число итераций - 26, время выполнения - 0.39308857917785645 секунд, длина конечного отрезка - 4.348060045344937e-08\n"
     ]
    }
   ],
   "source": [
    "def fibonacci_method(func, a, b, epsilon):\n",
    "    def fibonacci(n):\n",
    "        if n <= 1:\n",
    "            return n\n",
    "        else:\n",
    "            return fibonacci(n - 1) + fibonacci(n - 2)\n",
    "    k = 0\n",
    "    while fibonacci(k + 2) <= (b - a) / epsilon:\n",
    "        k += 1\n",
    "\n",
    "    iteration = 0\n",
    "    start_time = time.time()\n",
    "\n",
    "    x1 = a + (fibonacci(k) / fibonacci(k + 2)) * (b - a)\n",
    "    x2 = a + (fibonacci(k + 1) / fibonacci(k + 2)) * (b - a)\n",
    "\n",
    "    for i in range(1, k + 1):\n",
    "        if func(x1) < func(x2):\n",
    "            b = x2\n",
    "            x2 = x1\n",
    "            x1 = a + (fibonacci(k - iteration) / fibonacci(k - iteration + 2)) * (b - a)\n",
    "        else:\n",
    "            a = x1\n",
    "            x1 = x2\n",
    "            x2 = a + (fibonacci(k - iteration - 1) / fibonacci(k - iteration + 2)) * (b - a)\n",
    "\n",
    "        iteration += 1\n",
    "\n",
    "    end_time = time.time()\n",
    "    duration = end_time - start_time\n",
    "    x_value = (a + b) / 2\n",
    "    min_value = func(x_value)\n",
    "\n",
    "    return {\n",
    "        'min_value': min_value,\n",
    "        'x_value': x_value,\n",
    "        'iterations': iteration,\n",
    "        'execution_time': duration,\n",
    "        'interval_length': (b - a)\n",
    "    }\n",
    "\n",
    "a = float(input(\"Введите начало интервала: \"))\n",
    "b = float(input(\"Введите конец интервала: \"))\n",
    "epsilon = float(input(\"Введите точность измерения: \"))\n",
    "\n",
    "result = fibonacci_method(function, a, b,epsilon)\n",
    "print(\"Метод Фибоначчи:\", f\"Минимальное значение функции - {result['min_value']}, значение x - {result['x_value']}, число итераций - {result['iterations']}, время выполнения - {result['execution_time']} секунд, длина конечного отрезка - {result['interval_length']}\")\n",
    "\n",
    "\n",
    "minFList.append(result['min_value'])\n",
    "minXList.append(result['x_value'])\n",
    "iterationsList.append(result['iterations'])\n",
    "execTimeList.append(result['execution_time'])\n",
    "finalIntervallenghtList.append(result['interval_length'])"
   ],
   "metadata": {
    "collapsed": false,
    "ExecuteTime": {
     "end_time": "2023-12-25T05:11:56.157553800Z",
     "start_time": "2023-12-25T05:11:50.254199100Z"
    }
   },
   "id": "d7b0651d56c31042"
  },
  {
   "cell_type": "code",
   "execution_count": 6,
   "outputs": [
    {
     "name": "stdout",
     "output_type": "stream",
     "text": [
      "Метод Ньютона: Минимальное значение функции - 7.38905609893065, значение x - 2, число итераций - 99, время выполнения - 0.000000 секунд, длина конечного отрезка - 3.1238891846752067e-28\n"
     ]
    }
   ],
   "source": [
    "def func(x):\n",
    "    return math.exp(x)\n",
    "\n",
    "def derivative(x):\n",
    "    return math.exp(x)\n",
    "\n",
    "def newton_method(initial_guess, tolerance, interval):\n",
    "    x = initial_guess\n",
    "    iteration = 0\n",
    "\n",
    "    start_time = time.time()\n",
    "\n",
    "    while abs(derivative(x)) > tolerance and interval[0] <= x <= interval[1]:\n",
    "        x = x - func(x) / derivative(x)\n",
    "        iteration += 1\n",
    "\n",
    "    end_time = time.time()\n",
    "    exec_time = end_time - start_time\n",
    "\n",
    "    if x < interval[0]:\n",
    "        x = interval[0]\n",
    "    elif x > interval[1]:\n",
    "        x = interval[1]\n",
    "\n",
    "    final_interval_length = interval[1] - interval[0]\n",
    "\n",
    "    return x, func(x), final_interval_length, iteration, exec_time\n",
    "\n",
    "initial_guess = 100\n",
    "interval = (2, 200)\n",
    "tolerance = 0.001\n",
    "\n",
    "min_x, min_f, _, iterations, exec_time = newton_method(initial_guess, tolerance, interval)\n",
    "\n",
    "interval_length = (interval[1] - interval[0]) / 2**iterations\n",
    "print(f\"Метод Ньютона: Минимальное значение функции - {min_f}, значение x - {min_x}, \"\n",
    "      f\"число итераций - {iterations}, время выполнения - {exec_time:.6f} секунд, \"\n",
    "      f\"длина конечного отрезка - {interval_length}\")\n",
    "\n",
    "minFList.append(min_f)\n",
    "minXList.append(min_x)\n",
    "iterationsList.append(iterations)\n",
    "execTimeList.append(exec_time)\n",
    "finalIntervallenghtList.append(interval_length)"
   ],
   "metadata": {
    "collapsed": false,
    "ExecuteTime": {
     "end_time": "2023-12-25T05:11:56.158554500Z",
     "start_time": "2023-12-25T05:11:56.154049300Z"
    }
   },
   "id": "cca46648ead64e6d"
  },
  {
   "cell_type": "code",
   "execution_count": 8,
   "outputs": [
    {
     "data": {
      "text/plain": "                       Метод  Минимальное значение f(x)  \\\n0  Метод половинного деления               34229.441073   \n1     Метод золотого сечения                   5.000000   \n2            Метод Фибоначчи                  30.156299   \n3              Метод Ньютона                   7.389056   \n\n   Минимальное значение x  Число итераций  Время выполнения  \\\n0              199.998489              17          0.000000   \n1               15.000018              24          0.000000   \n2                9.984394              26          0.393089   \n3                2.000000              99          0.000000   \n\n   Длина конечного отрезка  \n0             1.510620e-03  \n1             1.909685e-03  \n2             4.348060e-08  \n3             3.123889e-28  ",
      "text/html": "<div>\n<style scoped>\n    .dataframe tbody tr th:only-of-type {\n        vertical-align: middle;\n    }\n\n    .dataframe tbody tr th {\n        vertical-align: top;\n    }\n\n    .dataframe thead th {\n        text-align: right;\n    }\n</style>\n<table border=\"1\" class=\"dataframe\">\n  <thead>\n    <tr style=\"text-align: right;\">\n      <th></th>\n      <th>Метод</th>\n      <th>Минимальное значение f(x)</th>\n      <th>Минимальное значение x</th>\n      <th>Число итераций</th>\n      <th>Время выполнения</th>\n      <th>Длина конечного отрезка</th>\n    </tr>\n  </thead>\n  <tbody>\n    <tr>\n      <th>0</th>\n      <td>Метод половинного деления</td>\n      <td>34229.441073</td>\n      <td>199.998489</td>\n      <td>17</td>\n      <td>0.000000</td>\n      <td>1.510620e-03</td>\n    </tr>\n    <tr>\n      <th>1</th>\n      <td>Метод золотого сечения</td>\n      <td>5.000000</td>\n      <td>15.000018</td>\n      <td>24</td>\n      <td>0.000000</td>\n      <td>1.909685e-03</td>\n    </tr>\n    <tr>\n      <th>2</th>\n      <td>Метод Фибоначчи</td>\n      <td>30.156299</td>\n      <td>9.984394</td>\n      <td>26</td>\n      <td>0.393089</td>\n      <td>4.348060e-08</td>\n    </tr>\n    <tr>\n      <th>3</th>\n      <td>Метод Ньютона</td>\n      <td>7.389056</td>\n      <td>2.000000</td>\n      <td>99</td>\n      <td>0.000000</td>\n      <td>3.123889e-28</td>\n    </tr>\n  </tbody>\n</table>\n</div>"
     },
     "execution_count": 8,
     "metadata": {},
     "output_type": "execute_result"
    }
   ],
   "source": [
    "df = pd.DataFrame({'Метод': ['Метод половинного деления', 'Метод золотого сечения', 'Метод Фибоначчи', 'Метод Ньютона'], 'Минимальное значение f(x)': minFList, 'Минимальное значение x': minXList, 'Число итераций': iterationsList, 'Время выполнения': execTimeList, 'Длина конечного отрезка': finalIntervallenghtList})\n",
    "df"
   ],
   "metadata": {
    "collapsed": false,
    "ExecuteTime": {
     "end_time": "2023-12-25T05:19:06.210937900Z",
     "start_time": "2023-12-25T05:19:06.140934500Z"
    }
   },
   "id": "eb8e278e7634f51f"
  }
 ],
 "metadata": {
  "kernelspec": {
   "display_name": "Python 3",
   "language": "python",
   "name": "python3"
  },
  "language_info": {
   "codemirror_mode": {
    "name": "ipython",
    "version": 2
   },
   "file_extension": ".py",
   "mimetype": "text/x-python",
   "name": "python",
   "nbconvert_exporter": "python",
   "pygments_lexer": "ipython2",
   "version": "2.7.6"
  }
 },
 "nbformat": 4,
 "nbformat_minor": 5
}
